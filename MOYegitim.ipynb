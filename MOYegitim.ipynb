{
  "nbformat": 4,
  "nbformat_minor": 0,
  "metadata": {
    "colab": {
      "provenance": [],
      "gpuType": "T4",
      "authorship_tag": "ABX9TyN1ysG/Xt7W8XAD7/C7vIjb",
      "include_colab_link": true
    },
    "kernelspec": {
      "name": "python3",
      "display_name": "Python 3"
    },
    "language_info": {
      "name": "python"
    },
    "accelerator": "GPU"
  },
  "cells": [
    {
      "cell_type": "markdown",
      "metadata": {
        "id": "view-in-github",
        "colab_type": "text"
      },
      "source": [
        "<a href=\"https://colab.research.google.com/github/mujdeakti/MakineOgrenmesi-DerinOgrenme/blob/main/MOYegitim.ipynb\" target=\"_parent\"><img src=\"https://colab.research.google.com/assets/colab-badge.svg\" alt=\"Open In Colab\"/></a>"
      ]
    },
    {
      "cell_type": "code",
      "execution_count": null,
      "metadata": {
        "colab": {
          "base_uri": "https://localhost:8080/"
        },
        "id": "zDo27R966KCt",
        "outputId": "b3fd5d0c-46e4-41de-de98-f52dfbd743bd"
      },
      "outputs": [
        {
          "output_type": "stream",
          "name": "stdout",
          "text": [
            "Drive already mounted at /content/gdrive; to attempt to forcibly remount, call drive.mount(\"/content/gdrive\", force_remount=True).\n"
          ]
        }
      ],
      "source": [
        "# Google Drive Baglantisinin kurulmasi\n",
        "from google.colab import drive\n",
        "drive.mount('/content/gdrive')"
      ]
    },
    {
      "cell_type": "code",
      "source": [
        "#model eğitim için ayırdığımız veriseti bölümlendirmesini yapılandırıyoruz\n",
        "from tensorflow.keras.preprocessing.image import ImageDataGenerator\n",
        "\n",
        "datagen = ImageDataGenerator(rescale=1./255)\n",
        "\n",
        "train_data = datagen.flow_from_directory(\n",
        "    '/content/gdrive/MyDrive/Colab Notebooks/hazir_veriseti_4_sinif(train-val-test)/train',\n",
        "    target_size=(224, 224),\n",
        "    batch_size=32,\n",
        "    class_mode='categorical',\n",
        "    shuffle=True\n",
        ")\n",
        "\n",
        "val_data = datagen.flow_from_directory(\n",
        "    '/content/gdrive/MyDrive/Colab Notebooks/hazir_veriseti_4_sinif(train-val-test)/val',\n",
        "    target_size=(224, 224),\n",
        "    batch_size=32,\n",
        "    class_mode='categorical',\n",
        "    shuffle=True\n",
        ")\n",
        "\n",
        "test_data = datagen.flow_from_directory(\n",
        "    '/content/gdrive/MyDrive/Colab Notebooks/hazir_veriseti_4_sinif(train-val-test)/test',\n",
        "    target_size=(224, 224),\n",
        "    batch_size=32,\n",
        "    class_mode='categorical',\n",
        "    shuffle=False  # Önemli! test sonuçlarını sınıf sırasına göre görürsün\n",
        ")\n"
      ],
      "metadata": {
        "colab": {
          "base_uri": "https://localhost:8080/"
        },
        "id": "cJxYoHQu6c1H",
        "outputId": "7190f952-37d8-4670-aa6a-5ca5dbf25a36"
      },
      "execution_count": null,
      "outputs": [
        {
          "output_type": "stream",
          "name": "stdout",
          "text": [
            "Found 5047 images belonging to 4 classes.\n",
            "Found 1080 images belonging to 4 classes.\n",
            "Found 1086 images belonging to 4 classes.\n"
          ]
        }
      ]
    },
    {
      "cell_type": "code",
      "source": [
        "#model mimarimizi oluşturuyoruz. (bu kısım modelimizi ifade ediyor. sadece bu kısmı değiştirerek yeni modeller üretebiliriz.)\n",
        "from tensorflow.keras.models import Sequential\n",
        "from tensorflow.keras.layers import Conv2D, MaxPooling2D, Dense, Dropout, GlobalAveragePooling2D, Activation\n",
        "from tensorflow.keras.layers import BatchNormalization\n",
        "from tensorflow.keras.layers import Conv2DTranspose  # İsteğe bağlı: upsampling yerine\n",
        "from tensorflow.keras.layers import Input\n",
        "from tensorflow.keras import layers\n",
        "\n",
        "model = Sequential([\n",
        "    Conv2D(32, (3, 3), dilation_rate=1, padding='same', activation='relu', input_shape=(224, 224, 3)),\n",
        "    BatchNormalization(),\n",
        "    MaxPooling2D(2, 2),\n",
        "\n",
        "    Conv2D(64, (3, 3), dilation_rate=2, padding='same', activation='relu'),\n",
        "    BatchNormalization(),\n",
        "    MaxPooling2D(2, 2),\n",
        "\n",
        "    Conv2D(128, (3, 3), dilation_rate=4, padding='same', activation='relu'),\n",
        "    BatchNormalization(),\n",
        "    MaxPooling2D(2, 2),\n",
        "\n",
        "    GlobalAveragePooling2D(),  # Flatten yerine daha az parametre, daha soyut öğrenme\n",
        "    Dropout(0.5),\n",
        "    Dense(64, activation='relu'),\n",
        "    Dropout(0.3),\n",
        "    Dense(4, activation='softmax')  # 4 sınıf için çıktı\n",
        "])\n"
      ],
      "metadata": {
        "colab": {
          "base_uri": "https://localhost:8080/"
        },
        "id": "q-WleYwW70z1",
        "outputId": "2a70da3c-c9d8-41ba-be6c-046d14556341"
      },
      "execution_count": null,
      "outputs": [
        {
          "output_type": "stream",
          "name": "stderr",
          "text": [
            "/usr/local/lib/python3.11/dist-packages/keras/src/layers/convolutional/base_conv.py:107: UserWarning: Do not pass an `input_shape`/`input_dim` argument to a layer. When using Sequential models, prefer using an `Input(shape)` object as the first layer in the model instead.\n",
            "  super().__init__(activity_regularizer=activity_regularizer, **kwargs)\n"
          ]
        }
      ]
    },
    {
      "cell_type": "code",
      "source": [
        "#modeli derleyip çalıştırıyoruz (yani eğitime başlıyoruz)\n",
        "from tensorflow.keras.callbacks import EarlyStopping\n",
        "\n",
        "model.compile(optimizer='adam', loss='categorical_crossentropy', metrics=['accuracy'])\n",
        "\n",
        "early_stop = EarlyStopping(\n",
        "    monitor='val_loss',\n",
        "    patience=2,\n",
        "    restore_best_weights=True\n",
        ")\n",
        "\n",
        "history = model.fit(\n",
        "    train_data,\n",
        "    epochs=20,  # yüksek verebilirsin çünkü erken duracak\n",
        "    validation_data=val_data,\n",
        "    callbacks=[early_stop]\n",
        ")"
      ],
      "metadata": {
        "colab": {
          "base_uri": "https://localhost:8080/"
        },
        "id": "qNukcOjL-Euw",
        "outputId": "fdfd10b1-7d9d-4c36-83c5-6dde16420c53"
      },
      "execution_count": null,
      "outputs": [
        {
          "output_type": "stream",
          "name": "stderr",
          "text": [
            "/usr/local/lib/python3.11/dist-packages/keras/src/trainers/data_adapters/py_dataset_adapter.py:121: UserWarning: Your `PyDataset` class should call `super().__init__(**kwargs)` in its constructor. `**kwargs` can include `workers`, `use_multiprocessing`, `max_queue_size`. Do not pass these arguments to `fit()`, as they will be ignored.\n",
            "  self._warn_if_super_not_called()\n"
          ]
        },
        {
          "output_type": "stream",
          "name": "stdout",
          "text": [
            "Epoch 1/20\n",
            "\u001b[1m158/158\u001b[0m \u001b[32m━━━━━━━━━━━━━━━━━━━━\u001b[0m\u001b[37m\u001b[0m \u001b[1m1343s\u001b[0m 8s/step - accuracy: 0.5593 - loss: 1.0678 - val_accuracy: 0.2333 - val_loss: 2.0399\n",
            "Epoch 2/20\n",
            "\u001b[1m158/158\u001b[0m \u001b[32m━━━━━━━━━━━━━━━━━━━━\u001b[0m\u001b[37m\u001b[0m \u001b[1m31s\u001b[0m 193ms/step - accuracy: 0.7181 - loss: 0.7211 - val_accuracy: 0.3194 - val_loss: 1.3626\n",
            "Epoch 3/20\n",
            "\u001b[1m158/158\u001b[0m \u001b[32m━━━━━━━━━━━━━━━━━━━━\u001b[0m\u001b[37m\u001b[0m \u001b[1m31s\u001b[0m 196ms/step - accuracy: 0.7354 - loss: 0.6488 - val_accuracy: 0.3685 - val_loss: 1.3536\n",
            "Epoch 4/20\n",
            "\u001b[1m158/158\u001b[0m \u001b[32m━━━━━━━━━━━━━━━━━━━━\u001b[0m\u001b[37m\u001b[0m \u001b[1m41s\u001b[0m 197ms/step - accuracy: 0.7540 - loss: 0.6042 - val_accuracy: 0.7120 - val_loss: 0.7025\n",
            "Epoch 5/20\n",
            "\u001b[1m158/158\u001b[0m \u001b[32m━━━━━━━━━━━━━━━━━━━━\u001b[0m\u001b[37m\u001b[0m \u001b[1m30s\u001b[0m 192ms/step - accuracy: 0.7876 - loss: 0.5421 - val_accuracy: 0.6213 - val_loss: 1.0918\n",
            "Epoch 6/20\n",
            "\u001b[1m158/158\u001b[0m \u001b[32m━━━━━━━━━━━━━━━━━━━━\u001b[0m\u001b[37m\u001b[0m \u001b[1m30s\u001b[0m 191ms/step - accuracy: 0.7989 - loss: 0.5134 - val_accuracy: 0.8306 - val_loss: 0.4438\n",
            "Epoch 7/20\n",
            "\u001b[1m158/158\u001b[0m \u001b[32m━━━━━━━━━━━━━━━━━━━━\u001b[0m\u001b[37m\u001b[0m \u001b[1m31s\u001b[0m 197ms/step - accuracy: 0.7979 - loss: 0.4846 - val_accuracy: 0.8130 - val_loss: 0.4361\n",
            "Epoch 8/20\n",
            "\u001b[1m158/158\u001b[0m \u001b[32m━━━━━━━━━━━━━━━━━━━━\u001b[0m\u001b[37m\u001b[0m \u001b[1m31s\u001b[0m 196ms/step - accuracy: 0.7925 - loss: 0.4879 - val_accuracy: 0.7287 - val_loss: 0.6691\n",
            "Epoch 9/20\n",
            "\u001b[1m158/158\u001b[0m \u001b[32m━━━━━━━━━━━━━━━━━━━━\u001b[0m\u001b[37m\u001b[0m \u001b[1m31s\u001b[0m 196ms/step - accuracy: 0.8137 - loss: 0.4655 - val_accuracy: 0.8194 - val_loss: 0.4259\n",
            "Epoch 10/20\n",
            "\u001b[1m158/158\u001b[0m \u001b[32m━━━━━━━━━━━━━━━━━━━━\u001b[0m\u001b[37m\u001b[0m \u001b[1m31s\u001b[0m 195ms/step - accuracy: 0.8263 - loss: 0.4497 - val_accuracy: 0.7963 - val_loss: 0.4896\n",
            "Epoch 11/20\n",
            "\u001b[1m158/158\u001b[0m \u001b[32m━━━━━━━━━━━━━━━━━━━━\u001b[0m\u001b[37m\u001b[0m \u001b[1m30s\u001b[0m 191ms/step - accuracy: 0.8243 - loss: 0.4189 - val_accuracy: 0.7972 - val_loss: 0.5132\n"
          ]
        }
      ]
    },
    {
      "cell_type": "code",
      "source": [
        "# Test verisi üzerinde modeli değerlendir\n",
        "test_loss, test_acc = model.evaluate(test_data)\n",
        "print(f\"\\nTest Doğruluğu: {test_acc:.4f}\")"
      ],
      "metadata": {
        "colab": {
          "base_uri": "https://localhost:8080/"
        },
        "id": "qL9F5JRb_F1f",
        "outputId": "8193236e-47a6-4055-a8ac-5cc0296335ee"
      },
      "execution_count": null,
      "outputs": [
        {
          "output_type": "stream",
          "name": "stdout",
          "text": [
            "\u001b[1m34/34\u001b[0m \u001b[32m━━━━━━━━━━━━━━━━━━━━\u001b[0m\u001b[37m\u001b[0m \u001b[1m317s\u001b[0m 10s/step - accuracy: 0.8962 - loss: 0.2811\n",
            "\n",
            "Test Doğruluğu: 0.8352\n"
          ]
        }
      ]
    },
    {
      "cell_type": "code",
      "source": [
        "#modeli daha ayrıntılı test ediyoruz\n",
        "import numpy as np\n",
        "from sklearn.metrics import classification_report, confusion_matrix\n",
        "\n",
        "# predictions = model.predict(test_data)\n",
        "# predicted_classes = (predictions > 0.5).astype(int).flatten()  ❌ Yalnızca binary içindir\n",
        "\n",
        "predictions = model.predict(test_data)\n",
        "predicted_classes = np.argmax(predictions, axis=1)  # ✅ Softmax çıktısından en yüksek olasılığı seç\n",
        "\n",
        "# Gerçek etiketler ve sınıf adları aynı kalabilir\n",
        "true_classes = test_data.classes\n",
        "class_labels = list(test_data.class_indices.keys())\n",
        "\n",
        "# Rapor\n",
        "print(classification_report(true_classes, predicted_classes, target_names=class_labels))\n",
        "print(\"Karışıklık Matrisi:\")\n",
        "print(confusion_matrix(true_classes, predicted_classes))"
      ],
      "metadata": {
        "colab": {
          "base_uri": "https://localhost:8080/"
        },
        "id": "bPaxElULOC4o",
        "outputId": "33d1ed88-4076-438e-86c7-8fa62554e6bf"
      },
      "execution_count": null,
      "outputs": [
        {
          "output_type": "stream",
          "name": "stdout",
          "text": [
            "\u001b[1m34/34\u001b[0m \u001b[32m━━━━━━━━━━━━━━━━━━━━\u001b[0m\u001b[37m\u001b[0m \u001b[1m7s\u001b[0m 163ms/step\n",
            "                      precision    recall  f1-score   support\n",
            "\n",
            "       0_(5-17)_genc       0.94      0.98      0.96       350\n",
            "1_(18-37)_yetiskin_1       0.75      0.81      0.78       253\n",
            "2_(38-64)_yetiskin_2       0.83      0.52      0.64       254\n",
            "    3_(65-100)_yasli       0.78      0.99      0.87       229\n",
            "\n",
            "            accuracy                           0.84      1086\n",
            "           macro avg       0.83      0.82      0.81      1086\n",
            "        weighted avg       0.84      0.84      0.83      1086\n",
            "\n",
            "Karışıklık Matrisi:\n",
            "[[344   1   4   1]\n",
            " [  6 205  21  21]\n",
            " [ 16  66 132  40]\n",
            " [  0   1   2 226]]\n"
          ]
        }
      ]
    },
    {
      "cell_type": "code",
      "source": [
        "import matplotlib.pyplot as plt\n",
        "\n",
        "plt.plot(history.history['accuracy'], label='Eğitim Doğruluğu')\n",
        "plt.plot(history.history['val_accuracy'], label='Doğrulama Doğruluğu')\n",
        "plt.xlabel('Epoch')\n",
        "plt.ylabel('Doğruluk')\n",
        "plt.legend()\n",
        "plt.show()"
      ],
      "metadata": {
        "colab": {
          "base_uri": "https://localhost:8080/",
          "height": 449
        },
        "id": "7W1T5Ls4OxiJ",
        "outputId": "1604900f-3a27-45d7-d387-84b3d0e844bb"
      },
      "execution_count": null,
      "outputs": [
        {
          "output_type": "display_data",
          "data": {
            "text/plain": [
              "<Figure size 640x480 with 1 Axes>"
            ],
            "image/png": "[encoded data removed]"
          },
          "metadata": {}
        }
      ]
    },
    {
      "cell_type": "code",
      "source": [
        "from tensorflow.keras.models import load_model\n",
        "model.save('/content/gdrive/MyDrive/Colab Notebooks/mimari3_4lu.keras')"
      ],
      "metadata": {
        "id": "ghlgr_6CPhDO"
      },
      "execution_count": null,
      "outputs": []
    }
  ]
}